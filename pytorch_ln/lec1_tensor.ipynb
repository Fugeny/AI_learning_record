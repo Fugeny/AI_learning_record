{
 "cells": [
  {
   "cell_type": "markdown",
   "metadata": {},
   "source": [
    "## Pytorch学习1"
   ]
  },
  {
   "cell_type": "code",
   "execution_count": 2,
   "metadata": {},
   "outputs": [],
   "source": [
    "import torch"
   ]
  },
  {
   "cell_type": "code",
   "execution_count": 4,
   "metadata": {},
   "outputs": [
    {
     "name": "stdout",
     "output_type": "stream",
     "text": [
      "tensor([[0.0000, 0.0000, 0.0000],\n",
      "        [0.0000, 0.0000, 0.0000],\n",
      "        [0.0000, 0.0000, 0.0000],\n",
      "        [0.0000, 0.0000, 0.0000]])\n"
     ]
    }
   ],
   "source": [
    "x = torch.empty(4,3)\n",
    "print x"
   ]
  },
  {
   "cell_type": "code",
   "execution_count": 5,
   "metadata": {},
   "outputs": [
    {
     "name": "stdout",
     "output_type": "stream",
     "text": [
      "tensor([[0.5769, 0.5001, 0.2135],\n",
      "        [0.5919, 0.8209, 0.9657],\n",
      "        [0.4994, 0.9044, 0.6700],\n",
      "        [0.5123, 0.8308, 0.9390],\n",
      "        [0.8255, 0.3361, 0.1005]])\n"
     ]
    }
   ],
   "source": [
    "x = torch.rand(5,3)\n",
    "print x"
   ]
  },
  {
   "cell_type": "code",
   "execution_count": 6,
   "metadata": {},
   "outputs": [
    {
     "name": "stdout",
     "output_type": "stream",
     "text": [
      "tensor([[0, 0, 0],\n",
      "        [0, 0, 0],\n",
      "        [0, 0, 0],\n",
      "        [0, 0, 0],\n",
      "        [0, 0, 0]])\n"
     ]
    }
   ],
   "source": [
    "x = torch.zeros(5, 3, dtype=torch.long)\n",
    "print x"
   ]
  },
  {
   "cell_type": "code",
   "execution_count": 7,
   "metadata": {},
   "outputs": [
    {
     "name": "stdout",
     "output_type": "stream",
     "text": [
      "tensor([5.5000, 3.0000])\n"
     ]
    }
   ],
   "source": [
    "x = torch.tensor([5.5, 3])\n",
    "print x"
   ]
  },
  {
   "cell_type": "code",
   "execution_count": 8,
   "metadata": {},
   "outputs": [
    {
     "name": "stdout",
     "output_type": "stream",
     "text": [
      "tensor([[1., 1., 1.],\n",
      "        [1., 1., 1.],\n",
      "        [1., 1., 1.],\n",
      "        [1., 1., 1.],\n",
      "        [1., 1., 1.]], dtype=torch.float64)\n",
      "tensor([[ 1.0462,  0.0597, -0.0527],\n",
      "        [ 2.3843,  0.7157,  0.6547],\n",
      "        [-1.3518,  1.1711,  1.0058],\n",
      "        [-1.2887,  0.6930,  0.1356],\n",
      "        [ 1.2648, -1.1355,  0.2385]])\n"
     ]
    }
   ],
   "source": [
    "x = x.new_ones(5, 3, dtype=torch.double)\n",
    "print x\n",
    "\n",
    "x = torch.randn_like(x, dtype=torch.float)\n",
    "print x"
   ]
  },
  {
   "cell_type": "code",
   "execution_count": 11,
   "metadata": {},
   "outputs": [
    {
     "name": "stdout",
     "output_type": "stream",
     "text": [
      "torch.Size([5, 3])\n"
     ]
    }
   ],
   "source": [
    "print x.size()"
   ]
  },
  {
   "cell_type": "code",
   "execution_count": 12,
   "metadata": {},
   "outputs": [
    {
     "name": "stdout",
     "output_type": "stream",
     "text": [
      "tensor([[ 1.3582,  0.1314,  0.7306],\n",
      "        [ 2.8311,  1.0747,  1.1183],\n",
      "        [-0.4428,  1.7434,  1.1951],\n",
      "        [-1.1680,  1.2326,  0.2013],\n",
      "        [ 1.3873, -0.6474,  1.1269]])\n"
     ]
    }
   ],
   "source": [
    "y = torch.rand(5, 3)\n",
    "print x+y"
   ]
  },
  {
   "cell_type": "code",
   "execution_count": 13,
   "metadata": {},
   "outputs": [
    {
     "name": "stdout",
     "output_type": "stream",
     "text": [
      "tensor([[ 1.3582,  0.1314,  0.7306],\n",
      "        [ 2.8311,  1.0747,  1.1183],\n",
      "        [-0.4428,  1.7434,  1.1951],\n",
      "        [-1.1680,  1.2326,  0.2013],\n",
      "        [ 1.3873, -0.6474,  1.1269]])\n"
     ]
    }
   ],
   "source": [
    "print torch.add(x, y)"
   ]
  },
  {
   "cell_type": "code",
   "execution_count": 14,
   "metadata": {},
   "outputs": [
    {
     "name": "stdout",
     "output_type": "stream",
     "text": [
      "tensor([[ 1.3582,  0.1314,  0.7306],\n",
      "        [ 2.8311,  1.0747,  1.1183],\n",
      "        [-0.4428,  1.7434,  1.1951],\n",
      "        [-1.1680,  1.2326,  0.2013],\n",
      "        [ 1.3873, -0.6474,  1.1269]])\n"
     ]
    }
   ],
   "source": [
    "result = torch.empty(5, 3)\n",
    "torch.add(x, y, out=result)\n",
    "print result"
   ]
  },
  {
   "cell_type": "code",
   "execution_count": 15,
   "metadata": {},
   "outputs": [
    {
     "name": "stdout",
     "output_type": "stream",
     "text": [
      "tensor([[ 1.0462,  0.0597, -0.0527],\n",
      "        [ 2.3843,  0.7157,  0.6547],\n",
      "        [-1.3518,  1.1711,  1.0058],\n",
      "        [-1.2887,  0.6930,  0.1356],\n",
      "        [ 1.2648, -1.1355,  0.2385]])\n",
      "tensor([[0.3119, 0.0716, 0.7833],\n",
      "        [0.4468, 0.3590, 0.4636],\n",
      "        [0.9090, 0.5723, 0.1893],\n",
      "        [0.1207, 0.5395, 0.0657],\n",
      "        [0.1224, 0.4881, 0.8884]])\n"
     ]
    }
   ],
   "source": [
    "print x\n",
    "\n",
    "print y"
   ]
  },
  {
   "cell_type": "code",
   "execution_count": 16,
   "metadata": {},
   "outputs": [
    {
     "name": "stdout",
     "output_type": "stream",
     "text": [
      "tensor([[ 1.3582,  0.1314,  0.7306],\n",
      "        [ 2.8311,  1.0747,  1.1183],\n",
      "        [-0.4428,  1.7434,  1.1951],\n",
      "        [-1.1680,  1.2326,  0.2013],\n",
      "        [ 1.3873, -0.6474,  1.1269]])\n"
     ]
    }
   ],
   "source": [
    "y.add_(x)\n",
    "print y"
   ]
  },
  {
   "cell_type": "code",
   "execution_count": 17,
   "metadata": {},
   "outputs": [
    {
     "name": "stdout",
     "output_type": "stream",
     "text": [
      "tensor([ 0.0597,  0.7157,  1.1711,  0.6930, -1.1355])\n"
     ]
    }
   ],
   "source": [
    "print x[:, 1]"
   ]
  },
  {
   "cell_type": "code",
   "execution_count": 20,
   "metadata": {},
   "outputs": [
    {
     "name": "stdout",
     "output_type": "stream",
     "text": [
      "torch.Size([4, 4]) torch.Size([16]) torch.Size([2, 8])\n"
     ]
    }
   ],
   "source": [
    "x = torch.randn(4, 4)\n",
    "y = x.view(16)\n",
    "z = x.view(-1, 8)\n",
    "print x.size(), y.size(), z.size()"
   ]
  },
  {
   "cell_type": "code",
   "execution_count": 22,
   "metadata": {},
   "outputs": [
    {
     "name": "stdout",
     "output_type": "stream",
     "text": [
      "tensor([1.3782])\n",
      "2.37823796272\n"
     ]
    }
   ],
   "source": [
    "x = torch.randn(1)\n",
    "print x\n",
    "print x.item() + 1"
   ]
  },
  {
   "cell_type": "code",
   "execution_count": 23,
   "metadata": {},
   "outputs": [
    {
     "name": "stdout",
     "output_type": "stream",
     "text": [
      "tensor([1., 1., 1., 1., 1.])\n"
     ]
    }
   ],
   "source": [
    "a = torch.ones(5)\n",
    "print a"
   ]
  },
  {
   "cell_type": "code",
   "execution_count": 24,
   "metadata": {},
   "outputs": [
    {
     "name": "stdout",
     "output_type": "stream",
     "text": [
      "[1. 1. 1. 1. 1.]\n"
     ]
    }
   ],
   "source": [
    "b = a.numpy()\n",
    "print b"
   ]
  },
  {
   "cell_type": "code",
   "execution_count": 53,
   "metadata": {},
   "outputs": [
    {
     "name": "stdout",
     "output_type": "stream",
     "text": [
      "tensor([2., 2., 2., 2., 2.])\n",
      "[2. 2. 2. 2. 2.]\n"
     ]
    }
   ],
   "source": [
    "a.add_(1)\n",
    "print a\n",
    "print b"
   ]
  },
  {
   "cell_type": "code",
   "execution_count": 25,
   "metadata": {},
   "outputs": [
    {
     "name": "stdout",
     "output_type": "stream",
     "text": [
      "[2. 2. 2. 2. 2.]\n",
      "tensor([2., 2., 2., 2., 2.], dtype=torch.float64)\n"
     ]
    }
   ],
   "source": [
    "import numpy as np\n",
    "a = np.ones(5)\n",
    "b = torch.from_numpy(a)\n",
    "np.add(a, 1, out=a)\n",
    "print a\n",
    "print b"
   ]
  },
  {
   "cell_type": "code",
   "execution_count": 26,
   "metadata": {},
   "outputs": [
    {
     "name": "stdout",
     "output_type": "stream",
     "text": [
      "tensor([2.3782], device='cuda:0')\n",
      "tensor([2.3782], dtype=torch.float64)\n"
     ]
    }
   ],
   "source": [
    "if torch.cuda.is_available():\n",
    "    y = torch.ones_like(x, device=\"cuda\")\n",
    "    x = x.to(\"cuda\")\n",
    "    z = x + y\n",
    "    print z\n",
    "    print z.to(\"cpu\", torch.double)"
   ]
  },
  {
   "cell_type": "code",
   "execution_count": 27,
   "metadata": {},
   "outputs": [
    {
     "name": "stdout",
     "output_type": "stream",
     "text": [
      "torch.sparse.FloatTensor of size (2,4) with indices:\n",
      "tensor([[0, 1, 1],\n",
      "        [2, 0, 2]])\n",
      "and values:\n",
      "tensor([3., 4., 5.])\n"
     ]
    }
   ],
   "source": [
    "i = torch.LongTensor([[0, 1, 1],\n",
    "                      [2, 0, 2]])\n",
    "v = torch.FloatTensor([3, 4, 5])\n",
    "a = torch.sparse_coo_tensor(i, v, torch.Size([2, 4]), device=\"cuda\")\n",
    "print a.to(\"cpu\")"
   ]
  },
  {
   "cell_type": "code",
   "execution_count": 28,
   "metadata": {},
   "outputs": [
    {
     "name": "stdout",
     "output_type": "stream",
     "text": [
      "tensor([0, 1, 2, 3, 4])\n"
     ]
    },
    {
     "data": {
      "text/plain": [
       "tensor([1.0000, 1.5000, 2.0000])"
      ]
     },
     "execution_count": 28,
     "metadata": {},
     "output_type": "execute_result"
    }
   ],
   "source": [
    "a = torch.arange(5)\n",
    "b = torch.arange(1, 4)\n",
    "c = torch.arange(1, 2.5, 0.5)\n",
    "print a; b; c"
   ]
  },
  {
   "cell_type": "code",
   "execution_count": 91,
   "metadata": {},
   "outputs": [
    {
     "name": "stdout",
     "output_type": "stream",
     "text": [
      "(tensor([[-1.2008,  0.2366, -0.6626],\n",
      "        [-1.3040,  1.7334,  0.1933]]), tensor([[-1.2008,  0.2366, -0.6626],\n",
      "        [-1.3040,  1.7334,  0.1933]]), tensor([[-1.2008,  0.2366, -0.6626],\n",
      "        [-1.3040,  1.7334,  0.1933]]))\n"
     ]
    }
   ],
   "source": [
    "x = torch.randn(2, 3)\n",
    "a = torch.cat((x, x, x), 0)\n",
    "print torch.chunk(a, 3)"
   ]
  },
  {
   "cell_type": "code",
   "execution_count": null,
   "metadata": {},
   "outputs": [],
   "source": []
  }
 ],
 "metadata": {
  "kernelspec": {
   "display_name": "Python 2",
   "language": "python",
   "name": "python2"
  },
  "language_info": {
   "codemirror_mode": {
    "name": "ipython",
    "version": 2
   },
   "file_extension": ".py",
   "mimetype": "text/x-python",
   "name": "python",
   "nbconvert_exporter": "python",
   "pygments_lexer": "ipython2",
   "version": "2.7.15"
  }
 },
 "nbformat": 4,
 "nbformat_minor": 2
}
